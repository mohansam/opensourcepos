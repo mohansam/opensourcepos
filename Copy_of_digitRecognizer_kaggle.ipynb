{
  "nbformat": 4,
  "nbformat_minor": 0,
  "metadata": {
    "colab": {
      "name": "Copy of digitRecognizer.ipynb",
      "provenance": [],
      "include_colab_link": true
    },
    "kernelspec": {
      "name": "python3",
      "display_name": "Python 3"
    },
    "accelerator": "GPU"
  },
  "cells": [
    {
      "cell_type": "markdown",
      "metadata": {
        "id": "view-in-github",
        "colab_type": "text"
      },
      "source": [
        "<a href=\"https://colab.research.google.com/github/mohansam/opensourcepos/blob/master/Copy_of_digitRecognizer_kaggle.ipynb\" target=\"_parent\"><img src=\"https://colab.research.google.com/assets/colab-badge.svg\" alt=\"Open In Colab\"/></a>"
      ]
    },
    {
      "cell_type": "code",
      "metadata": {
        "id": "CvDxDseVGtKU",
        "colab_type": "code",
        "outputId": "63c2fb89-57db-49f7-be68-6f024e72cf4a",
        "colab": {
          "base_uri": "https://localhost:8080/",
          "height": 34
        }
      },
      "source": [
        "from google.colab import drive\n",
        "drive.mount('/content/drive')"
      ],
      "execution_count": 0,
      "outputs": [
        {
          "output_type": "stream",
          "text": [
            "Drive already mounted at /content/drive; to attempt to forcibly remount, call drive.mount(\"/content/drive\", force_remount=True).\n"
          ],
          "name": "stdout"
        }
      ]
    },
    {
      "cell_type": "code",
      "metadata": {
        "id": "DkkO5d2UGuQX",
        "colab_type": "code",
        "colab": {}
      },
      "source": [
        "traindir_path='/content/drive/My Drive/Colab Notebooks/mnistdata/train.csv'\n",
        "testdir_path='/content/drive/My Drive/Colab Notebooks/mnistdata/test.csv'"
      ],
      "execution_count": 0,
      "outputs": []
    },
    {
      "cell_type": "code",
      "metadata": {
        "id": "wWAj4WlFHFlm",
        "colab_type": "code",
        "colab": {}
      },
      "source": [
        "import numpy as np\n",
        "import tensorflow as tf\n",
        "import pandas as pd\n",
        "from tensorflow import keras\n",
        "import matplotlib.pyplot as plt\n"
      ],
      "execution_count": 0,
      "outputs": []
    },
    {
      "cell_type": "code",
      "metadata": {
        "id": "rQ9z4wcnHjtc",
        "colab_type": "code",
        "colab": {}
      },
      "source": [
        "train=pd.read_csv(traindir_path)\n",
        "test=pd.read_csv(testdir_path)"
      ],
      "execution_count": 0,
      "outputs": []
    },
    {
      "cell_type": "code",
      "metadata": {
        "id": "CcQ23nghIq8H",
        "colab_type": "code",
        "outputId": "3245ce2e-ba0b-48ac-e497-a8e238fca72c",
        "colab": {
          "base_uri": "https://localhost:8080/",
          "height": 253
        }
      },
      "source": [
        "test.head()"
      ],
      "execution_count": 0,
      "outputs": [
        {
          "output_type": "execute_result",
          "data": {
            "text/html": [
              "<div>\n",
              "<style scoped>\n",
              "    .dataframe tbody tr th:only-of-type {\n",
              "        vertical-align: middle;\n",
              "    }\n",
              "\n",
              "    .dataframe tbody tr th {\n",
              "        vertical-align: top;\n",
              "    }\n",
              "\n",
              "    .dataframe thead th {\n",
              "        text-align: right;\n",
              "    }\n",
              "</style>\n",
              "<table border=\"1\" class=\"dataframe\">\n",
              "  <thead>\n",
              "    <tr style=\"text-align: right;\">\n",
              "      <th></th>\n",
              "      <th>pixel0</th>\n",
              "      <th>pixel1</th>\n",
              "      <th>pixel2</th>\n",
              "      <th>pixel3</th>\n",
              "      <th>pixel4</th>\n",
              "      <th>pixel5</th>\n",
              "      <th>pixel6</th>\n",
              "      <th>pixel7</th>\n",
              "      <th>pixel8</th>\n",
              "      <th>pixel9</th>\n",
              "      <th>pixel10</th>\n",
              "      <th>pixel11</th>\n",
              "      <th>pixel12</th>\n",
              "      <th>pixel13</th>\n",
              "      <th>pixel14</th>\n",
              "      <th>pixel15</th>\n",
              "      <th>pixel16</th>\n",
              "      <th>pixel17</th>\n",
              "      <th>pixel18</th>\n",
              "      <th>pixel19</th>\n",
              "      <th>pixel20</th>\n",
              "      <th>pixel21</th>\n",
              "      <th>pixel22</th>\n",
              "      <th>pixel23</th>\n",
              "      <th>pixel24</th>\n",
              "      <th>pixel25</th>\n",
              "      <th>pixel26</th>\n",
              "      <th>pixel27</th>\n",
              "      <th>pixel28</th>\n",
              "      <th>pixel29</th>\n",
              "      <th>pixel30</th>\n",
              "      <th>pixel31</th>\n",
              "      <th>pixel32</th>\n",
              "      <th>pixel33</th>\n",
              "      <th>pixel34</th>\n",
              "      <th>pixel35</th>\n",
              "      <th>pixel36</th>\n",
              "      <th>pixel37</th>\n",
              "      <th>pixel38</th>\n",
              "      <th>pixel39</th>\n",
              "      <th>...</th>\n",
              "      <th>pixel744</th>\n",
              "      <th>pixel745</th>\n",
              "      <th>pixel746</th>\n",
              "      <th>pixel747</th>\n",
              "      <th>pixel748</th>\n",
              "      <th>pixel749</th>\n",
              "      <th>pixel750</th>\n",
              "      <th>pixel751</th>\n",
              "      <th>pixel752</th>\n",
              "      <th>pixel753</th>\n",
              "      <th>pixel754</th>\n",
              "      <th>pixel755</th>\n",
              "      <th>pixel756</th>\n",
              "      <th>pixel757</th>\n",
              "      <th>pixel758</th>\n",
              "      <th>pixel759</th>\n",
              "      <th>pixel760</th>\n",
              "      <th>pixel761</th>\n",
              "      <th>pixel762</th>\n",
              "      <th>pixel763</th>\n",
              "      <th>pixel764</th>\n",
              "      <th>pixel765</th>\n",
              "      <th>pixel766</th>\n",
              "      <th>pixel767</th>\n",
              "      <th>pixel768</th>\n",
              "      <th>pixel769</th>\n",
              "      <th>pixel770</th>\n",
              "      <th>pixel771</th>\n",
              "      <th>pixel772</th>\n",
              "      <th>pixel773</th>\n",
              "      <th>pixel774</th>\n",
              "      <th>pixel775</th>\n",
              "      <th>pixel776</th>\n",
              "      <th>pixel777</th>\n",
              "      <th>pixel778</th>\n",
              "      <th>pixel779</th>\n",
              "      <th>pixel780</th>\n",
              "      <th>pixel781</th>\n",
              "      <th>pixel782</th>\n",
              "      <th>pixel783</th>\n",
              "    </tr>\n",
              "  </thead>\n",
              "  <tbody>\n",
              "    <tr>\n",
              "      <th>0</th>\n",
              "      <td>0</td>\n",
              "      <td>0</td>\n",
              "      <td>0</td>\n",
              "      <td>0</td>\n",
              "      <td>0</td>\n",
              "      <td>0</td>\n",
              "      <td>0</td>\n",
              "      <td>0</td>\n",
              "      <td>0</td>\n",
              "      <td>0</td>\n",
              "      <td>0</td>\n",
              "      <td>0</td>\n",
              "      <td>0</td>\n",
              "      <td>0</td>\n",
              "      <td>0</td>\n",
              "      <td>0</td>\n",
              "      <td>0</td>\n",
              "      <td>0</td>\n",
              "      <td>0</td>\n",
              "      <td>0</td>\n",
              "      <td>0</td>\n",
              "      <td>0</td>\n",
              "      <td>0</td>\n",
              "      <td>0</td>\n",
              "      <td>0</td>\n",
              "      <td>0</td>\n",
              "      <td>0</td>\n",
              "      <td>0</td>\n",
              "      <td>0</td>\n",
              "      <td>0</td>\n",
              "      <td>0</td>\n",
              "      <td>0</td>\n",
              "      <td>0</td>\n",
              "      <td>0</td>\n",
              "      <td>0</td>\n",
              "      <td>0</td>\n",
              "      <td>0</td>\n",
              "      <td>0</td>\n",
              "      <td>0</td>\n",
              "      <td>0</td>\n",
              "      <td>...</td>\n",
              "      <td>0</td>\n",
              "      <td>0</td>\n",
              "      <td>0</td>\n",
              "      <td>0</td>\n",
              "      <td>0</td>\n",
              "      <td>0</td>\n",
              "      <td>0</td>\n",
              "      <td>0</td>\n",
              "      <td>0</td>\n",
              "      <td>0</td>\n",
              "      <td>0</td>\n",
              "      <td>0</td>\n",
              "      <td>0</td>\n",
              "      <td>0</td>\n",
              "      <td>0</td>\n",
              "      <td>0</td>\n",
              "      <td>0</td>\n",
              "      <td>0</td>\n",
              "      <td>0</td>\n",
              "      <td>0</td>\n",
              "      <td>0</td>\n",
              "      <td>0</td>\n",
              "      <td>0</td>\n",
              "      <td>0</td>\n",
              "      <td>0</td>\n",
              "      <td>0</td>\n",
              "      <td>0</td>\n",
              "      <td>0</td>\n",
              "      <td>0</td>\n",
              "      <td>0</td>\n",
              "      <td>0</td>\n",
              "      <td>0</td>\n",
              "      <td>0</td>\n",
              "      <td>0</td>\n",
              "      <td>0</td>\n",
              "      <td>0</td>\n",
              "      <td>0</td>\n",
              "      <td>0</td>\n",
              "      <td>0</td>\n",
              "      <td>0</td>\n",
              "    </tr>\n",
              "    <tr>\n",
              "      <th>1</th>\n",
              "      <td>0</td>\n",
              "      <td>0</td>\n",
              "      <td>0</td>\n",
              "      <td>0</td>\n",
              "      <td>0</td>\n",
              "      <td>0</td>\n",
              "      <td>0</td>\n",
              "      <td>0</td>\n",
              "      <td>0</td>\n",
              "      <td>0</td>\n",
              "      <td>0</td>\n",
              "      <td>0</td>\n",
              "      <td>0</td>\n",
              "      <td>0</td>\n",
              "      <td>0</td>\n",
              "      <td>0</td>\n",
              "      <td>0</td>\n",
              "      <td>0</td>\n",
              "      <td>0</td>\n",
              "      <td>0</td>\n",
              "      <td>0</td>\n",
              "      <td>0</td>\n",
              "      <td>0</td>\n",
              "      <td>0</td>\n",
              "      <td>0</td>\n",
              "      <td>0</td>\n",
              "      <td>0</td>\n",
              "      <td>0</td>\n",
              "      <td>0</td>\n",
              "      <td>0</td>\n",
              "      <td>0</td>\n",
              "      <td>0</td>\n",
              "      <td>0</td>\n",
              "      <td>0</td>\n",
              "      <td>0</td>\n",
              "      <td>0</td>\n",
              "      <td>0</td>\n",
              "      <td>0</td>\n",
              "      <td>0</td>\n",
              "      <td>0</td>\n",
              "      <td>...</td>\n",
              "      <td>0</td>\n",
              "      <td>0</td>\n",
              "      <td>0</td>\n",
              "      <td>0</td>\n",
              "      <td>0</td>\n",
              "      <td>0</td>\n",
              "      <td>0</td>\n",
              "      <td>0</td>\n",
              "      <td>0</td>\n",
              "      <td>0</td>\n",
              "      <td>0</td>\n",
              "      <td>0</td>\n",
              "      <td>0</td>\n",
              "      <td>0</td>\n",
              "      <td>0</td>\n",
              "      <td>0</td>\n",
              "      <td>0</td>\n",
              "      <td>0</td>\n",
              "      <td>0</td>\n",
              "      <td>0</td>\n",
              "      <td>0</td>\n",
              "      <td>0</td>\n",
              "      <td>0</td>\n",
              "      <td>0</td>\n",
              "      <td>0</td>\n",
              "      <td>0</td>\n",
              "      <td>0</td>\n",
              "      <td>0</td>\n",
              "      <td>0</td>\n",
              "      <td>0</td>\n",
              "      <td>0</td>\n",
              "      <td>0</td>\n",
              "      <td>0</td>\n",
              "      <td>0</td>\n",
              "      <td>0</td>\n",
              "      <td>0</td>\n",
              "      <td>0</td>\n",
              "      <td>0</td>\n",
              "      <td>0</td>\n",
              "      <td>0</td>\n",
              "    </tr>\n",
              "    <tr>\n",
              "      <th>2</th>\n",
              "      <td>0</td>\n",
              "      <td>0</td>\n",
              "      <td>0</td>\n",
              "      <td>0</td>\n",
              "      <td>0</td>\n",
              "      <td>0</td>\n",
              "      <td>0</td>\n",
              "      <td>0</td>\n",
              "      <td>0</td>\n",
              "      <td>0</td>\n",
              "      <td>0</td>\n",
              "      <td>0</td>\n",
              "      <td>0</td>\n",
              "      <td>0</td>\n",
              "      <td>0</td>\n",
              "      <td>0</td>\n",
              "      <td>0</td>\n",
              "      <td>0</td>\n",
              "      <td>0</td>\n",
              "      <td>0</td>\n",
              "      <td>0</td>\n",
              "      <td>0</td>\n",
              "      <td>0</td>\n",
              "      <td>0</td>\n",
              "      <td>0</td>\n",
              "      <td>0</td>\n",
              "      <td>0</td>\n",
              "      <td>0</td>\n",
              "      <td>0</td>\n",
              "      <td>0</td>\n",
              "      <td>0</td>\n",
              "      <td>0</td>\n",
              "      <td>0</td>\n",
              "      <td>0</td>\n",
              "      <td>0</td>\n",
              "      <td>0</td>\n",
              "      <td>0</td>\n",
              "      <td>0</td>\n",
              "      <td>0</td>\n",
              "      <td>0</td>\n",
              "      <td>...</td>\n",
              "      <td>0</td>\n",
              "      <td>0</td>\n",
              "      <td>0</td>\n",
              "      <td>0</td>\n",
              "      <td>0</td>\n",
              "      <td>0</td>\n",
              "      <td>0</td>\n",
              "      <td>0</td>\n",
              "      <td>0</td>\n",
              "      <td>0</td>\n",
              "      <td>0</td>\n",
              "      <td>0</td>\n",
              "      <td>0</td>\n",
              "      <td>0</td>\n",
              "      <td>0</td>\n",
              "      <td>0</td>\n",
              "      <td>0</td>\n",
              "      <td>0</td>\n",
              "      <td>0</td>\n",
              "      <td>0</td>\n",
              "      <td>0</td>\n",
              "      <td>0</td>\n",
              "      <td>0</td>\n",
              "      <td>0</td>\n",
              "      <td>0</td>\n",
              "      <td>0</td>\n",
              "      <td>0</td>\n",
              "      <td>0</td>\n",
              "      <td>0</td>\n",
              "      <td>0</td>\n",
              "      <td>0</td>\n",
              "      <td>0</td>\n",
              "      <td>0</td>\n",
              "      <td>0</td>\n",
              "      <td>0</td>\n",
              "      <td>0</td>\n",
              "      <td>0</td>\n",
              "      <td>0</td>\n",
              "      <td>0</td>\n",
              "      <td>0</td>\n",
              "    </tr>\n",
              "    <tr>\n",
              "      <th>3</th>\n",
              "      <td>0</td>\n",
              "      <td>0</td>\n",
              "      <td>0</td>\n",
              "      <td>0</td>\n",
              "      <td>0</td>\n",
              "      <td>0</td>\n",
              "      <td>0</td>\n",
              "      <td>0</td>\n",
              "      <td>0</td>\n",
              "      <td>0</td>\n",
              "      <td>0</td>\n",
              "      <td>0</td>\n",
              "      <td>0</td>\n",
              "      <td>0</td>\n",
              "      <td>0</td>\n",
              "      <td>0</td>\n",
              "      <td>0</td>\n",
              "      <td>0</td>\n",
              "      <td>0</td>\n",
              "      <td>0</td>\n",
              "      <td>0</td>\n",
              "      <td>0</td>\n",
              "      <td>0</td>\n",
              "      <td>0</td>\n",
              "      <td>0</td>\n",
              "      <td>0</td>\n",
              "      <td>0</td>\n",
              "      <td>0</td>\n",
              "      <td>0</td>\n",
              "      <td>0</td>\n",
              "      <td>0</td>\n",
              "      <td>0</td>\n",
              "      <td>0</td>\n",
              "      <td>0</td>\n",
              "      <td>0</td>\n",
              "      <td>0</td>\n",
              "      <td>0</td>\n",
              "      <td>0</td>\n",
              "      <td>0</td>\n",
              "      <td>0</td>\n",
              "      <td>...</td>\n",
              "      <td>0</td>\n",
              "      <td>0</td>\n",
              "      <td>0</td>\n",
              "      <td>0</td>\n",
              "      <td>0</td>\n",
              "      <td>0</td>\n",
              "      <td>0</td>\n",
              "      <td>0</td>\n",
              "      <td>0</td>\n",
              "      <td>0</td>\n",
              "      <td>0</td>\n",
              "      <td>0</td>\n",
              "      <td>0</td>\n",
              "      <td>0</td>\n",
              "      <td>0</td>\n",
              "      <td>0</td>\n",
              "      <td>0</td>\n",
              "      <td>0</td>\n",
              "      <td>0</td>\n",
              "      <td>0</td>\n",
              "      <td>0</td>\n",
              "      <td>0</td>\n",
              "      <td>0</td>\n",
              "      <td>0</td>\n",
              "      <td>0</td>\n",
              "      <td>0</td>\n",
              "      <td>0</td>\n",
              "      <td>0</td>\n",
              "      <td>0</td>\n",
              "      <td>0</td>\n",
              "      <td>0</td>\n",
              "      <td>0</td>\n",
              "      <td>0</td>\n",
              "      <td>0</td>\n",
              "      <td>0</td>\n",
              "      <td>0</td>\n",
              "      <td>0</td>\n",
              "      <td>0</td>\n",
              "      <td>0</td>\n",
              "      <td>0</td>\n",
              "    </tr>\n",
              "    <tr>\n",
              "      <th>4</th>\n",
              "      <td>0</td>\n",
              "      <td>0</td>\n",
              "      <td>0</td>\n",
              "      <td>0</td>\n",
              "      <td>0</td>\n",
              "      <td>0</td>\n",
              "      <td>0</td>\n",
              "      <td>0</td>\n",
              "      <td>0</td>\n",
              "      <td>0</td>\n",
              "      <td>0</td>\n",
              "      <td>0</td>\n",
              "      <td>0</td>\n",
              "      <td>0</td>\n",
              "      <td>0</td>\n",
              "      <td>0</td>\n",
              "      <td>0</td>\n",
              "      <td>0</td>\n",
              "      <td>0</td>\n",
              "      <td>0</td>\n",
              "      <td>0</td>\n",
              "      <td>0</td>\n",
              "      <td>0</td>\n",
              "      <td>0</td>\n",
              "      <td>0</td>\n",
              "      <td>0</td>\n",
              "      <td>0</td>\n",
              "      <td>0</td>\n",
              "      <td>0</td>\n",
              "      <td>0</td>\n",
              "      <td>0</td>\n",
              "      <td>0</td>\n",
              "      <td>0</td>\n",
              "      <td>0</td>\n",
              "      <td>0</td>\n",
              "      <td>0</td>\n",
              "      <td>0</td>\n",
              "      <td>0</td>\n",
              "      <td>0</td>\n",
              "      <td>0</td>\n",
              "      <td>...</td>\n",
              "      <td>0</td>\n",
              "      <td>0</td>\n",
              "      <td>0</td>\n",
              "      <td>0</td>\n",
              "      <td>0</td>\n",
              "      <td>0</td>\n",
              "      <td>0</td>\n",
              "      <td>0</td>\n",
              "      <td>0</td>\n",
              "      <td>0</td>\n",
              "      <td>0</td>\n",
              "      <td>0</td>\n",
              "      <td>0</td>\n",
              "      <td>0</td>\n",
              "      <td>0</td>\n",
              "      <td>0</td>\n",
              "      <td>0</td>\n",
              "      <td>0</td>\n",
              "      <td>0</td>\n",
              "      <td>0</td>\n",
              "      <td>0</td>\n",
              "      <td>0</td>\n",
              "      <td>0</td>\n",
              "      <td>0</td>\n",
              "      <td>0</td>\n",
              "      <td>0</td>\n",
              "      <td>0</td>\n",
              "      <td>0</td>\n",
              "      <td>0</td>\n",
              "      <td>0</td>\n",
              "      <td>0</td>\n",
              "      <td>0</td>\n",
              "      <td>0</td>\n",
              "      <td>0</td>\n",
              "      <td>0</td>\n",
              "      <td>0</td>\n",
              "      <td>0</td>\n",
              "      <td>0</td>\n",
              "      <td>0</td>\n",
              "      <td>0</td>\n",
              "    </tr>\n",
              "  </tbody>\n",
              "</table>\n",
              "<p>5 rows × 784 columns</p>\n",
              "</div>"
            ],
            "text/plain": [
              "   pixel0  pixel1  pixel2  pixel3  ...  pixel780  pixel781  pixel782  pixel783\n",
              "0       0       0       0       0  ...         0         0         0         0\n",
              "1       0       0       0       0  ...         0         0         0         0\n",
              "2       0       0       0       0  ...         0         0         0         0\n",
              "3       0       0       0       0  ...         0         0         0         0\n",
              "4       0       0       0       0  ...         0         0         0         0\n",
              "\n",
              "[5 rows x 784 columns]"
            ]
          },
          "metadata": {
            "tags": []
          },
          "execution_count": 168
        }
      ]
    },
    {
      "cell_type": "code",
      "metadata": {
        "id": "cx7QmLjkHpJW",
        "colab_type": "code",
        "colab": {}
      },
      "source": [
        "ytrain=train.pop('label')\n",
        "xtrain=train.values\n",
        "xtest=test.values"
      ],
      "execution_count": 0,
      "outputs": []
    },
    {
      "cell_type": "code",
      "metadata": {
        "id": "98pd9lKMVABN",
        "colab_type": "code",
        "colab": {}
      },
      "source": [
        "(kxtrain,kytrain),(kxtest,kytest)=keras.datasets.mnist.load_data()"
      ],
      "execution_count": 0,
      "outputs": []
    },
    {
      "cell_type": "code",
      "metadata": {
        "id": "n_McDTXiJm2Y",
        "colab_type": "code",
        "colab": {}
      },
      "source": [
        "xtrain=xtrain/255.0\n",
        "xtest=xtest/255.0\n",
        "kxtrain=kxtrain/255.0\n",
        "kxtest=kxtest/255.0"
      ],
      "execution_count": 0,
      "outputs": []
    },
    {
      "cell_type": "code",
      "metadata": {
        "id": "CFhGqcy5Hs4c",
        "colab_type": "code",
        "outputId": "7eed4318-47fb-4d1e-b595-01e83263d43f",
        "colab": {
          "base_uri": "https://localhost:8080/",
          "height": 320
        }
      },
      "source": [
        "image=cn_kxtrain[0,:].reshape([28,28])\n",
        "plt.hist(image.reshape(784))"
      ],
      "execution_count": 0,
      "outputs": [
        {
          "output_type": "execute_result",
          "data": {
            "text/plain": [
              "(array([639.,  11.,   6.,  11.,   6.,   9.,  11.,  12.,  11.,  68.]),\n",
              " array([0. , 0.1, 0.2, 0.3, 0.4, 0.5, 0.6, 0.7, 0.8, 0.9, 1. ]),\n",
              " <a list of 10 Patch objects>)"
            ]
          },
          "metadata": {
            "tags": []
          },
          "execution_count": 172
        },
        {
          "output_type": "display_data",
          "data": {
            "image/png": "[encoded data removed]",
            "text/plain": [
              "<Figure size 432x288 with 1 Axes>"
            ]
          },
          "metadata": {
            "tags": []
          }
        }
      ]
    },
    {
      "cell_type": "code",
      "metadata": {
        "id": "QE4zwXvGH-iF",
        "colab_type": "code",
        "outputId": "b2a959a1-d7ce-4808-eaaf-a5ada17242c1",
        "colab": {
          "base_uri": "https://localhost:8080/",
          "height": 286
        }
      },
      "source": [
        "plt.imshow(image,cmap=plt.cm.binary)\n",
        "ytrain[0]"
      ],
      "execution_count": 0,
      "outputs": [
        {
          "output_type": "execute_result",
          "data": {
            "text/plain": [
              "1"
            ]
          },
          "metadata": {
            "tags": []
          },
          "execution_count": 173
        },
        {
          "output_type": "display_data",
          "data": {
            "image/png": "[encoded data removed]",
            "text/plain": [
              "<Figure size 432x288 with 1 Axes>"
            ]
          },
          "metadata": {
            "tags": []
          }
        }
      ]
    },
    {
      "cell_type": "code",
      "metadata": {
        "id": "NjK6JxBfUI84",
        "colab_type": "code",
        "colab": {}
      },
      "source": [
        "submission_dir='/content/drive/My Drive/Colab Notebooks/mnistdata/sample_submission.csv'"
      ],
      "execution_count": 0,
      "outputs": []
    },
    {
      "cell_type": "code",
      "metadata": {
        "id": "zovJlGT-itZo",
        "colab_type": "code",
        "colab": {}
      },
      "source": [
        "sub=pd.read_csv(submission_dir)"
      ],
      "execution_count": 0,
      "outputs": []
    },
    {
      "cell_type": "code",
      "metadata": {
        "id": "fq6Gk7VEaWdy",
        "colab_type": "code",
        "colab": {}
      },
      "source": [
        "sub['Label']=label\n",
        "sub.to_csv(submission_dir)"
      ],
      "execution_count": 0,
      "outputs": []
    },
    {
      "cell_type": "code",
      "metadata": {
        "id": "d2GnE5xUjWZb",
        "colab_type": "code",
        "colab": {}
      },
      "source": [
        ""
      ],
      "execution_count": 0,
      "outputs": []
    },
    {
      "cell_type": "markdown",
      "metadata": {
        "id": "PNGgXnyYjbqy",
        "colab_type": "text"
      },
      "source": [
        "# model accuracy improvment"
      ]
    },
    {
      "cell_type": "code",
      "metadata": {
        "id": "18MoSCWft-wK",
        "colab_type": "code",
        "colab": {}
      },
      "source": [
        "cn_xtrain=xtrain.reshape([-1,28,28,1])\n",
        "cn_xtest=xtest.reshape([-1,28,28,1])\n",
        "cn_kxtrain=kxtrain.reshape([-1,28,28,1])\n",
        "cn_kxtest=kxtest.reshape([-1,28,28,1])"
      ],
      "execution_count": 0,
      "outputs": []
    },
    {
      "cell_type": "code",
      "metadata": {
        "id": "DcpxxaTYfc60",
        "colab_type": "code",
        "outputId": "57657658-b7d9-412c-a601-abf9a682ef05",
        "colab": {
          "base_uri": "https://localhost:8080/",
          "height": 34
        }
      },
      "source": [
        "cn_x=np.concatenate((kxtrain,kxtest))\n",
        "cn_y=np.concatenate((kytrain,kytest))\n",
        "cn_x=cn_x.reshape([-1,28,28,1])\n",
        "cn_y.shape"
      ],
      "execution_count": 0,
      "outputs": [
        {
          "output_type": "execute_result",
          "data": {
            "text/plain": [
              "(70000,)"
            ]
          },
          "metadata": {
            "tags": []
          },
          "execution_count": 178
        }
      ]
    },
    {
      "cell_type": "code",
      "metadata": {
        "id": "z79dSBIN1sQt",
        "colab_type": "code",
        "colab": {}
      },
      "source": [
        "datagen =keras.preprocessing.image.ImageDataGenerator(\n",
        "        featurewise_center=False,  # set input mean to 0 over the dataset\n",
        "        samplewise_center=False,  # set each sample mean to 0\n",
        "        featurewise_std_normalization=False,  # divide inputs by std of the dataset\n",
        "        samplewise_std_normalization=False,  # divide each input by its std\n",
        "        zca_whitening=False,  # apply ZCA whitening\n",
        "        rotation_range=10,  # randomly rotate images in the range (degrees, 0 to 180)\n",
        "        zoom_range = 0.1, # Randomly zoom image \n",
        "        width_shift_range=0.1,  # randomly shift images horizontally (fraction of total width)\n",
        "        height_shift_range=0.1,  # randomly shift images vertically (fraction of total height)\n",
        "        horizontal_flip=False,  # randomly flip images\n",
        "        vertical_flip=False)  # randomly flip images\n",
        "\n",
        "\n",
        "datagen.fit(cn_x)"
      ],
      "execution_count": 0,
      "outputs": []
    },
    {
      "cell_type": "code",
      "metadata": {
        "id": "gbLLYJkKj2sE",
        "colab_type": "code",
        "colab": {}
      },
      "source": [
        "model=keras.Sequential([keras.layers.Conv2D(filters=32,kernel_size=3,input_shape=(28,28,1),activation='relu',padding='same'),\n",
        "                      keras.layers.Conv2D(32,5,activation='relu',padding='same'),\n",
        "                      keras.layers.MaxPool2D(),\n",
        "                      keras.layers.Conv2D(16,5,activation='relu',padding='same'),\n",
        "                      keras.layers.Flatten(),\n",
        "                      keras.layers.Dense(128,activation='relu'),\n",
        "                      keras.layers.Dense(10,activation='softmax')])"
      ],
      "execution_count": 0,
      "outputs": []
    },
    {
      "cell_type": "code",
      "metadata": {
        "id": "dtaWCyhtmeI7",
        "colab_type": "code",
        "outputId": "ec5eb8cc-0c52-495d-9949-6f680187bc08",
        "colab": {
          "base_uri": "https://localhost:8080/",
          "height": 391
        }
      },
      "source": [
        "model.summary()"
      ],
      "execution_count": 0,
      "outputs": [
        {
          "output_type": "stream",
          "text": [
            "Model: \"sequential_10\"\n",
            "_________________________________________________________________\n",
            "Layer (type)                 Output Shape              Param #   \n",
            "=================================================================\n",
            "conv2d_30 (Conv2D)           (None, 28, 28, 32)        320       \n",
            "_________________________________________________________________\n",
            "conv2d_31 (Conv2D)           (None, 28, 28, 32)        25632     \n",
            "_________________________________________________________________\n",
            "max_pooling2d_10 (MaxPooling (None, 14, 14, 32)        0         \n",
            "_________________________________________________________________\n",
            "conv2d_32 (Conv2D)           (None, 14, 14, 16)        12816     \n",
            "_________________________________________________________________\n",
            "flatten_10 (Flatten)         (None, 3136)              0         \n",
            "_________________________________________________________________\n",
            "dense_20 (Dense)             (None, 128)               401536    \n",
            "_________________________________________________________________\n",
            "dense_21 (Dense)             (None, 10)                1290      \n",
            "=================================================================\n",
            "Total params: 441,594\n",
            "Trainable params: 441,594\n",
            "Non-trainable params: 0\n",
            "_________________________________________________________________\n"
          ],
          "name": "stdout"
        }
      ]
    },
    {
      "cell_type": "code",
      "metadata": {
        "id": "LDXLpOnGs6Wb",
        "colab_type": "code",
        "colab": {}
      },
      "source": [
        "model.compile(optimizer=keras.optimizers.Adam(),loss=keras.losses.sparse_categorical_crossentropy,metrics=['accuracy'])"
      ],
      "execution_count": 0,
      "outputs": []
    },
    {
      "cell_type": "code",
      "metadata": {
        "id": "Td0hWl_BtxuD",
        "colab_type": "code",
        "colab": {}
      },
      "source": [
        "epochs=100\n",
        "batch_size=32\n",
        "filepath='weights.{epoch:02d}-{val_loss:.2f}.hdf5'\n",
        "stop=keras.callbacks.EarlyStopping(monitor='val_loss',patience=10,restore_best_weights=True)\n",
        "save=keras.callbacks.ModelCheckpoint(filepath=filepath)"
      ],
      "execution_count": 0,
      "outputs": []
    },
    {
      "cell_type": "code",
      "metadata": {
        "id": "KuDe4yUG-_qT",
        "colab_type": "code",
        "colab": {}
      },
      "source": [
        "model.load_weights('/content/weights.27-0.01.hdf5')"
      ],
      "execution_count": 0,
      "outputs": []
    },
    {
      "cell_type": "code",
      "metadata": {
        "id": "kLTLee69t2rU",
        "colab_type": "code",
        "outputId": "b0464a3f-9cb2-431f-e6e5-3d26ed398416",
        "colab": {
          "base_uri": "https://localhost:8080/",
          "height": 1000
        }
      },
      "source": [
        "history=model.fit_generator(datagen.flow(cn_x,cn_y),\n",
        "                  epochs=epochs,\n",
        "                  callbacks=[stop,save],\n",
        "                 validation_data=(cn_xtrain,ytrain))"
      ],
      "execution_count": 0,
      "outputs": [
        {
          "output_type": "stream",
          "text": [
            "Epoch 1/100\n",
            "2188/2188 [==============================] - 41s 19ms/step - loss: 0.0182 - acc: 0.9945 - val_loss: 0.0072 - val_acc: 0.9977\n",
            "Epoch 2/100\n",
            "2188/2188 [==============================] - 40s 18ms/step - loss: 0.0168 - acc: 0.9947 - val_loss: 0.0092 - val_acc: 0.9970\n",
            "Epoch 3/100\n",
            "2188/2188 [==============================] - 40s 18ms/step - loss: 0.0170 - acc: 0.9948 - val_loss: 0.0090 - val_acc: 0.9971\n",
            "Epoch 4/100\n",
            "2188/2188 [==============================] - 40s 18ms/step - loss: 0.0172 - acc: 0.9946 - val_loss: 0.0074 - val_acc: 0.9973\n",
            "Epoch 5/100\n",
            "2188/2188 [==============================] - 39s 18ms/step - loss: 0.0153 - acc: 0.9948 - val_loss: 0.0092 - val_acc: 0.9972\n",
            "Epoch 6/100\n",
            "2188/2188 [==============================] - 39s 18ms/step - loss: 0.0155 - acc: 0.9950 - val_loss: 0.0110 - val_acc: 0.9969\n",
            "Epoch 7/100\n",
            "2188/2188 [==============================] - 40s 18ms/step - loss: 0.0157 - acc: 0.9953 - val_loss: 0.0087 - val_acc: 0.9974\n",
            "Epoch 8/100\n",
            "2188/2188 [==============================] - 39s 18ms/step - loss: 0.0156 - acc: 0.9951 - val_loss: 0.0075 - val_acc: 0.9976\n",
            "Epoch 9/100\n",
            "2188/2188 [==============================] - 39s 18ms/step - loss: 0.0157 - acc: 0.9950 - val_loss: 0.0062 - val_acc: 0.9979\n",
            "Epoch 10/100\n",
            "2188/2188 [==============================] - 39s 18ms/step - loss: 0.0149 - acc: 0.9954 - val_loss: 0.0074 - val_acc: 0.9976\n",
            "Epoch 11/100\n",
            "2188/2188 [==============================] - 39s 18ms/step - loss: 0.0161 - acc: 0.9951 - val_loss: 0.0081 - val_acc: 0.9975\n",
            "Epoch 12/100\n",
            "2188/2188 [==============================] - 40s 18ms/step - loss: 0.0143 - acc: 0.9958 - val_loss: 0.0077 - val_acc: 0.9977\n",
            "Epoch 13/100\n",
            "2188/2188 [==============================] - 40s 18ms/step - loss: 0.0152 - acc: 0.9953 - val_loss: 0.0076 - val_acc: 0.9977\n",
            "Epoch 14/100\n",
            "2188/2188 [==============================] - 40s 18ms/step - loss: 0.0151 - acc: 0.9952 - val_loss: 0.0062 - val_acc: 0.9978\n",
            "Epoch 15/100\n",
            "2188/2188 [==============================] - 40s 18ms/step - loss: 0.0135 - acc: 0.9957 - val_loss: 0.0060 - val_acc: 0.9983\n",
            "Epoch 16/100\n",
            "2188/2188 [==============================] - 41s 19ms/step - loss: 0.0127 - acc: 0.9960 - val_loss: 0.0073 - val_acc: 0.9975\n",
            "Epoch 17/100\n",
            "2188/2188 [==============================] - 40s 18ms/step - loss: 0.0146 - acc: 0.9956 - val_loss: 0.0068 - val_acc: 0.9979\n",
            "Epoch 18/100\n",
            "2188/2188 [==============================] - 41s 19ms/step - loss: 0.0135 - acc: 0.9959 - val_loss: 0.0061 - val_acc: 0.9981\n",
            "Epoch 19/100\n",
            "2188/2188 [==============================] - 41s 19ms/step - loss: 0.0151 - acc: 0.9956 - val_loss: 0.0072 - val_acc: 0.9975\n",
            "Epoch 20/100\n",
            "2188/2188 [==============================] - 41s 19ms/step - loss: 0.0139 - acc: 0.9959 - val_loss: 0.0058 - val_acc: 0.9981\n",
            "Epoch 21/100\n",
            "2188/2188 [==============================] - 41s 19ms/step - loss: 0.0139 - acc: 0.9960 - val_loss: 0.0073 - val_acc: 0.9974\n",
            "Epoch 22/100\n",
            "2188/2188 [==============================] - 42s 19ms/step - loss: 0.0137 - acc: 0.9956 - val_loss: 0.0070 - val_acc: 0.9979\n",
            "Epoch 23/100\n",
            "2188/2188 [==============================] - 42s 19ms/step - loss: 0.0134 - acc: 0.9960 - val_loss: 0.0052 - val_acc: 0.9985\n",
            "Epoch 24/100\n",
            "2188/2188 [==============================] - 42s 19ms/step - loss: 0.0124 - acc: 0.9963 - val_loss: 0.0067 - val_acc: 0.9978\n",
            "Epoch 25/100\n",
            "2188/2188 [==============================] - 41s 19ms/step - loss: 0.0140 - acc: 0.9958 - val_loss: 0.0066 - val_acc: 0.9979\n",
            "Epoch 26/100\n",
            "2188/2188 [==============================] - 41s 19ms/step - loss: 0.0146 - acc: 0.9957 - val_loss: 0.0067 - val_acc: 0.9979\n",
            "Epoch 27/100\n",
            "2188/2188 [==============================] - 41s 19ms/step - loss: 0.0130 - acc: 0.9962 - val_loss: 0.0054 - val_acc: 0.9983\n",
            "Epoch 28/100\n",
            "2188/2188 [==============================] - 40s 18ms/step - loss: 0.0144 - acc: 0.9957 - val_loss: 0.0060 - val_acc: 0.9981\n",
            "Epoch 29/100\n",
            "2188/2188 [==============================] - 41s 19ms/step - loss: 0.0125 - acc: 0.9959 - val_loss: 0.0048 - val_acc: 0.9985\n",
            "Epoch 30/100\n",
            "2188/2188 [==============================] - 41s 19ms/step - loss: 0.0122 - acc: 0.9963 - val_loss: 0.0080 - val_acc: 0.9975\n",
            "Epoch 31/100\n",
            "2188/2188 [==============================] - 40s 19ms/step - loss: 0.0140 - acc: 0.9959 - val_loss: 0.0041 - val_acc: 0.9986\n",
            "Epoch 32/100\n",
            "2188/2188 [==============================] - 41s 19ms/step - loss: 0.0142 - acc: 0.9960 - val_loss: 0.0054 - val_acc: 0.9981\n",
            "Epoch 33/100\n",
            "2188/2188 [==============================] - 41s 19ms/step - loss: 0.0128 - acc: 0.9962 - val_loss: 0.0038 - val_acc: 0.9988\n",
            "Epoch 34/100\n",
            "2188/2188 [==============================] - 40s 18ms/step - loss: 0.0133 - acc: 0.9961 - val_loss: 0.0075 - val_acc: 0.9976\n",
            "Epoch 35/100\n",
            "2188/2188 [==============================] - 40s 18ms/step - loss: 0.0130 - acc: 0.9963 - val_loss: 0.0041 - val_acc: 0.9986\n",
            "Epoch 36/100\n",
            "2188/2188 [==============================] - 40s 18ms/step - loss: 0.0130 - acc: 0.9962 - val_loss: 0.0061 - val_acc: 0.9981\n",
            "Epoch 37/100\n",
            "2188/2188 [==============================] - 40s 18ms/step - loss: 0.0125 - acc: 0.9961 - val_loss: 0.0073 - val_acc: 0.9978\n",
            "Epoch 38/100\n",
            "2188/2188 [==============================] - 40s 18ms/step - loss: 0.0153 - acc: 0.9958 - val_loss: 0.0051 - val_acc: 0.9982\n",
            "Epoch 39/100\n",
            "2188/2188 [==============================] - 40s 18ms/step - loss: 0.0120 - acc: 0.9964 - val_loss: 0.0071 - val_acc: 0.9979\n",
            "Epoch 40/100\n",
            "2188/2188 [==============================] - 40s 18ms/step - loss: 0.0126 - acc: 0.9962 - val_loss: 0.0098 - val_acc: 0.9971\n",
            "Epoch 41/100\n",
            "2188/2188 [==============================] - 40s 18ms/step - loss: 0.0120 - acc: 0.9966 - val_loss: 0.0048 - val_acc: 0.9985\n",
            "Epoch 42/100\n",
            "2188/2188 [==============================] - 40s 18ms/step - loss: 0.0142 - acc: 0.9962 - val_loss: 0.0052 - val_acc: 0.9984\n",
            "Epoch 43/100\n",
            "2188/2188 [==============================] - 40s 18ms/step - loss: 0.0125 - acc: 0.9964 - val_loss: 0.0071 - val_acc: 0.9980\n"
          ],
          "name": "stdout"
        }
      ]
    },
    {
      "cell_type": "code",
      "metadata": {
        "id": "x-7PQijTfmqI",
        "colab_type": "code",
        "colab": {}
      },
      "source": [
        "model.save('/content/drive/My Drive/Colab Notebooks/mnistdata/99accurcymnist_cnn.h5')"
      ],
      "execution_count": 0,
      "outputs": []
    },
    {
      "cell_type": "code",
      "metadata": {
        "id": "f6r6QiX_6vM0",
        "colab_type": "code",
        "colab": {}
      },
      "source": [
        "his=history.history\n",
        "loss=his['loss']\n",
        "acc=his['acc']\n",
        "val_loss=his['val_loss']\n",
        "val_acc=his['val_acc']"
      ],
      "execution_count": 0,
      "outputs": []
    },
    {
      "cell_type": "code",
      "metadata": {
        "id": "Fre54JCOMaI-",
        "colab_type": "code",
        "outputId": "09ef1ad6-a09f-43f2-b365-e4231603794a",
        "colab": {
          "base_uri": "https://localhost:8080/",
          "height": 337
        }
      },
      "source": [
        "fig=plt.figure(figsize=(10,5))\n",
        "plt.subplot(1,2,1)\n",
        "plt.plot(loss,label='train_loss')\n",
        "plt.plot(val_loss,label='val_loss')\n",
        "plt.ylabel('loss')\n",
        "plt.xlabel('epochs')\n",
        "plt.legend()\n",
        "plt.subplot(1,2,2)\n",
        "plt.plot(acc,label='train_acc')\n",
        "plt.plot(val_acc,label='val_acc')\n",
        "plt.ylabel('acc')\n",
        "plt.xlabel('epochs')\n",
        "plt.legend()\n",
        "plt.show()\n"
      ],
      "execution_count": 0,
      "outputs": [
        {
          "output_type": "display_data",
          "data": {
            "image/png": "[encoded data removed]",
            "text/plain": [
              "<Figure size 720x360 with 2 Axes>"
            ]
          },
          "metadata": {
            "tags": []
          }
        }
      ]
    },
    {
      "cell_type": "code",
      "metadata": {
        "id": "hA4yEhlDfx4k",
        "colab_type": "code",
        "outputId": "f358c57a-bf16-4aba-b5d2-a0a9a6175539",
        "colab": {
          "base_uri": "https://localhost:8080/",
          "height": 51
        }
      },
      "source": [
        "model.evaluate(cn_kxtest,kytest)"
      ],
      "execution_count": 0,
      "outputs": [
        {
          "output_type": "stream",
          "text": [
            "10000/10000 [==============================] - 1s 114us/sample - loss: 0.0045 - acc: 0.9985\n"
          ],
          "name": "stdout"
        },
        {
          "output_type": "execute_result",
          "data": {
            "text/plain": [
              "[0.004532560647225841, 0.9985]"
            ]
          },
          "metadata": {
            "tags": []
          },
          "execution_count": 199
        }
      ]
    },
    {
      "cell_type": "code",
      "metadata": {
        "id": "UNcGglgBg0F2",
        "colab_type": "code",
        "colab": {}
      },
      "source": [
        "pred=model.predict(cn_xtest)"
      ],
      "execution_count": 0,
      "outputs": []
    },
    {
      "cell_type": "code",
      "metadata": {
        "id": "JdTmnW4rpUdB",
        "colab_type": "code",
        "outputId": "a5ce8c26-b856-4b60-eed3-74a86a8375d2",
        "colab": {
          "base_uri": "https://localhost:8080/",
          "height": 1000
        }
      },
      "source": [
        "for i in range(10):\n",
        "  image=xtest[i,:].reshape([28,28])\n",
        "  plt.imshow(image,cmap=plt.cm.binary)\n",
        "  print(np.argmax(pred[i]))\n",
        "  plt.show()"
      ],
      "execution_count": 0,
      "outputs": [
        {
          "output_type": "stream",
          "text": [
            "2\n"
          ],
          "name": "stdout"
        },
        {
          "output_type": "display_data",
          "data": {
            "image/png": "[encoded data removed]",
            "text/plain": [
              "<Figure size 432x288 with 1 Axes>"
            ]
          },
          "metadata": {
            "tags": []
          }
        },
        {
          "output_type": "stream",
          "text": [
            "0\n"
          ],
          "name": "stdout"
        },
        {
          "output_type": "display_data",
          "data": {
            "image/png": "[encoded data removed]",
            "text/plain": [
              "<Figure size 432x288 with 1 Axes>"
            ]
          },
          "metadata": {
            "tags": []
          }
        },
        {
          "output_type": "stream",
          "text": [
            "9\n"
          ],
          "name": "stdout"
        },
        {
          "output_type": "display_data",
          "data": {
            "image/png": "[encoded data removed]",
            "text/plain": [
              "<Figure size 432x288 with 1 Axes>"
            ]
          },
          "metadata": {
            "tags": []
          }
        },
        {
          "output_type": "stream",
          "text": [
            "0\n"
          ],
          "name": "stdout"
        },
        {
          "output_type": "display_data",
          "data": {
            "image/png": "[encoded data removed]",
            "text/plain": [
              "<Figure size 432x288 with 1 Axes>"
            ]
          },
          "metadata": {
            "tags": []
          }
        },
        {
          "output_type": "stream",
          "text": [
            "3\n"
          ],
          "name": "stdout"
        },
        {
          "output_type": "display_data",
          "data": {
            "image/png": "[encoded data removed]",
            "text/plain": [
              "<Figure size 432x288 with 1 Axes>"
            ]
          },
          "metadata": {
            "tags": []
          }
        },
        {
          "output_type": "stream",
          "text": [
            "7\n"
          ],
          "name": "stdout"
        },
        {
          "output_type": "display_data",
          "data": {
            "image/png": "[encoded data removed]",
            "text/plain": [
              "<Figure size 432x288 with 1 Axes>"
            ]
          },
          "metadata": {
            "tags": []
          }
        },
        {
          "output_type": "stream",
          "text": [
            "0\n"
          ],
          "name": "stdout"
        },
        {
          "output_type": "display_data",
          "data": {
            "image/png": "[encoded data removed]",
            "text/plain": [
              "<Figure size 432x288 with 1 Axes>"
            ]
          },
          "metadata": {
            "tags": []
          }
        },
        {
          "output_type": "stream",
          "text": [
            "3\n"
          ],
          "name": "stdout"
        },
        {
          "output_type": "display_data",
          "data": {
            "image/png": "[encoded data removed]",
            "text/plain": [
              "<Figure size 432x288 with 1 Axes>"
            ]
          },
          "metadata": {
            "tags": []
          }
        },
        {
          "output_type": "stream",
          "text": [
            "0\n"
          ],
          "name": "stdout"
        },
        {
          "output_type": "display_data",
          "data": {
            "image/png": "[encoded data removed]",
            "text/plain": [
              "<Figure size 432x288 with 1 Axes>"
            ]
          },
          "metadata": {
            "tags": []
          }
        },
        {
          "output_type": "stream",
          "text": [
            "3\n"
          ],
          "name": "stdout"
        },
        {
          "output_type": "display_data",
          "data": {
            "image/png": "[encoded data removed]",
            "text/plain": [
              "<Figure size 432x288 with 1 Axes>"
            ]
          },
          "metadata": {
            "tags": []
          }
        }
      ]
    },
    {
      "cell_type": "code",
      "metadata": {
        "id": "wRAmMLoVvx2r",
        "colab_type": "code",
        "colab": {}
      },
      "source": [
        "sub=pd.read_csv('/content/sample_submission.csv')"
      ],
      "execution_count": 0,
      "outputs": []
    },
    {
      "cell_type": "code",
      "metadata": {
        "id": "SHrX0FiV7SVo",
        "colab_type": "code",
        "colab": {}
      },
      "source": [
        "label=[]\n",
        "for i in range(len(pred)):\n",
        "  label.append(np.argmax(pred[i]))"
      ],
      "execution_count": 0,
      "outputs": []
    },
    {
      "cell_type": "code",
      "metadata": {
        "id": "bM5NbPzT7Vj6",
        "colab_type": "code",
        "colab": {}
      },
      "source": [
        "sub['Label']=label"
      ],
      "execution_count": 0,
      "outputs": []
    },
    {
      "cell_type": "code",
      "metadata": {
        "id": "Pxjaf7Ey7fcO",
        "colab_type": "code",
        "colab": {}
      },
      "source": [
        "sub.to_csv('/content/sample_submission.csv')"
      ],
      "execution_count": 0,
      "outputs": []
    },
    {
      "cell_type": "code",
      "metadata": {
        "id": "DU1tuYHV7oIL",
        "colab_type": "code",
        "outputId": "2ad9925c-5e92-4d28-ae3e-27953e2a799a",
        "colab": {
          "base_uri": "https://localhost:8080/",
          "height": 204
        }
      },
      "source": [
        "sub.head()"
      ],
      "execution_count": 0,
      "outputs": [
        {
          "output_type": "execute_result",
          "data": {
            "text/html": [
              "<div>\n",
              "<style scoped>\n",
              "    .dataframe tbody tr th:only-of-type {\n",
              "        vertical-align: middle;\n",
              "    }\n",
              "\n",
              "    .dataframe tbody tr th {\n",
              "        vertical-align: top;\n",
              "    }\n",
              "\n",
              "    .dataframe thead th {\n",
              "        text-align: right;\n",
              "    }\n",
              "</style>\n",
              "<table border=\"1\" class=\"dataframe\">\n",
              "  <thead>\n",
              "    <tr style=\"text-align: right;\">\n",
              "      <th></th>\n",
              "      <th>Unnamed: 0</th>\n",
              "      <th>ImageId</th>\n",
              "      <th>Label</th>\n",
              "    </tr>\n",
              "  </thead>\n",
              "  <tbody>\n",
              "    <tr>\n",
              "      <th>0</th>\n",
              "      <td>0</td>\n",
              "      <td>1</td>\n",
              "      <td>2</td>\n",
              "    </tr>\n",
              "    <tr>\n",
              "      <th>1</th>\n",
              "      <td>1</td>\n",
              "      <td>2</td>\n",
              "      <td>0</td>\n",
              "    </tr>\n",
              "    <tr>\n",
              "      <th>2</th>\n",
              "      <td>2</td>\n",
              "      <td>3</td>\n",
              "      <td>9</td>\n",
              "    </tr>\n",
              "    <tr>\n",
              "      <th>3</th>\n",
              "      <td>3</td>\n",
              "      <td>4</td>\n",
              "      <td>0</td>\n",
              "    </tr>\n",
              "    <tr>\n",
              "      <th>4</th>\n",
              "      <td>4</td>\n",
              "      <td>5</td>\n",
              "      <td>3</td>\n",
              "    </tr>\n",
              "  </tbody>\n",
              "</table>\n",
              "</div>"
            ],
            "text/plain": [
              "   Unnamed: 0  ImageId  Label\n",
              "0           0        1      2\n",
              "1           1        2      0\n",
              "2           2        3      9\n",
              "3           3        4      0\n",
              "4           4        5      3"
            ]
          },
          "metadata": {
            "tags": []
          },
          "execution_count": 206
        }
      ]
    },
    {
      "cell_type": "code",
      "metadata": {
        "id": "fvukiGdS8jog",
        "colab_type": "code",
        "colab": {}
      },
      "source": [
        ""
      ],
      "execution_count": 0,
      "outputs": []
    }
  ]
}